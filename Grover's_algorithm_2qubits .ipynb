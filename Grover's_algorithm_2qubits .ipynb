{
 "cells": [
  {
   "cell_type": "markdown",
   "metadata": {},
   "source": [
    "# Grover's Algorithm on 2 qubits"
   ]
  },
  {
   "cell_type": "markdown",
   "metadata": {},
   "source": [
    "We will use our quantum simulator to implement grover's algorithm on 2 qubits to find |11>(winner state)position state. The algorithm is implemented from this exercise of quantum challenge fall 2020: https://github.com/qiskit-community/IBMQuantumChallenge2020/blob/main/exercises/week-1/ex_1b_en.ipynb"
   ]
  },
  {
   "cell_type": "code",
   "execution_count": 1,
   "metadata": {},
   "outputs": [],
   "source": [
    "import MyQuantumSimulator"
   ]
  },
  {
   "cell_type": "code",
   "execution_count": 2,
   "metadata": {},
   "outputs": [],
   "source": [
    "register = [0,1]\n",
    "oracle_register = [2]\n",
    "qc = MyQuantumSimulator.Circuit(len(register+oracle_register))"
   ]
  },
  {
   "cell_type": "code",
   "execution_count": 3,
   "metadata": {},
   "outputs": [],
   "source": [
    "def oracle(circuit, register, oracle_register):  #oracle to negate the state |11>\n",
    "    \n",
    "    circuit.h(oracle_register[0])\n",
    "    \n",
    "    circuit.cx(register,oracle_register)\n",
    "    \n",
    "    circuit.h(oracle_register[0])\n",
    "    "
   ]
  },
  {
   "cell_type": "code",
   "execution_count": 4,
   "metadata": {},
   "outputs": [],
   "source": [
    "def diffusion(circuit, register):     #diffuser to amplify the amplitude of the winner state\n",
    "    circuit.h(register[0])\n",
    "    circuit.h(register[1])\n",
    "    circuit.x(register[0])\n",
    "    circuit.x(register[1])\n",
    "    circuit.h(register[1])\n",
    "    circuit.cx(register[0], register[1])\n",
    "    circuit.h(register[1])\n",
    "    circuit.x(register[0])\n",
    "    circuit.x(register[1])\n",
    "    circuit.h(register[0])\n",
    "    circuit.h(register[1])"
   ]
  },
  {
   "cell_type": "code",
   "execution_count": 5,
   "metadata": {},
   "outputs": [],
   "source": [
    "#Implementation\n",
    "qc.h(register[0])  #create the superposition state\n",
    "qc.h(register[1])\n",
    "qc.x(oracle_register[0])   #initialize oracle register to |1>\n",
    "\n",
    "oracle(qc, register, oracle_register)   #only 1 iteration of oracle and diffuser is needed for this.\n",
    "diffusion(qc, register)"
   ]
  },
  {
   "cell_type": "code",
   "execution_count": 6,
   "metadata": {},
   "outputs": [
    {
     "data": {
      "text/plain": [
       "{'000': 0,\n",
       " '001': 0,\n",
       " '010': 0,\n",
       " '011': 0,\n",
       " '100': 0,\n",
       " '101': 0,\n",
       " '110': 0,\n",
       " '111': 1000}"
      ]
     },
     "execution_count": 6,
     "metadata": {},
     "output_type": "execute_result"
    }
   ],
   "source": [
    "qc.measure(1000) #We measure the state |11> ignore the third 1 as it is from the oracle_register."
   ]
  },
  {
   "cell_type": "code",
   "execution_count": null,
   "metadata": {},
   "outputs": [],
   "source": []
  }
 ],
 "metadata": {
  "kernelspec": {
   "display_name": "Python 3",
   "language": "python",
   "name": "python3"
  },
  "language_info": {
   "codemirror_mode": {
    "name": "ipython",
    "version": 3
   },
   "file_extension": ".py",
   "mimetype": "text/x-python",
   "name": "python",
   "nbconvert_exporter": "python",
   "pygments_lexer": "ipython3",
   "version": "3.8.5"
  }
 },
 "nbformat": 4,
 "nbformat_minor": 4
}
